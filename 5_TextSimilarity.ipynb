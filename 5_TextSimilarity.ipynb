{
 "cells": [
  {
   "cell_type": "markdown",
   "metadata": {},
   "source": [
    "### Jaccard Similarity"
   ]
  },
  {
   "cell_type": "code",
   "execution_count": null,
   "metadata": {},
   "outputs": [
    {
     "name": "stdout",
     "output_type": "stream",
     "text": [
      "Jaccard Similarity: 0.44\n"
     ]
    }
   ],
   "source": [
    "def jaccard_similarity(text1, text2):\n",
    "    \n",
    "    # Tokenize the texts into sets of words\n",
    "    set1 = set(text1.split())\n",
    "    set2 = set(text2.split())\n",
    "    \n",
    "    # Compute intersection and union\n",
    "    intersection = set1.intersection(set2)\n",
    "    union = set1.union(set2)\n",
    "    \n",
    "    # Jaccard Similarity formula\n",
    "    similarity = len(intersection) / len(union)\n",
    "    \n",
    "    return similarity\n",
    "\n",
    "# Example Usage\n",
    "text1 = \"I love natural language processing\"\n",
    "text2 = \"I enjoy natural language processing and machine learning\"\n",
    "\n",
    "similarity_score = jaccard_similarity(text1, text2)\n",
    "print(f\"Jaccard Similarity: {similarity_score:.2f}\")\n"
   ]
  },
  {
   "cell_type": "markdown",
   "metadata": {},
   "source": [
    "###  Cosine Similarity"
   ]
  },
  {
   "cell_type": "code",
   "execution_count": null,
   "metadata": {},
   "outputs": [
    {
     "name": "stdout",
     "output_type": "stream",
     "text": [
      "Cosine Similarity: 0.41\n"
     ]
    }
   ],
   "source": [
    "from sklearn.feature_extraction.text import TfidfVectorizer\n",
    "from sklearn.metrics.pairwise import cosine_similarity\n",
    "\n",
    "def calculate_cosine_similarity(text1, text2):\n",
    "    \n",
    "    # Vectorize the texts using TF-IDF\n",
    "    vectorizer = TfidfVectorizer()\n",
    "    tfidf_matrix = vectorizer.fit_transform([text1, text2])\n",
    "    \n",
    "    # Compute the cosine similarity\n",
    "    similarity = cosine_similarity(tfidf_matrix[0:1], tfidf_matrix[1:2])\n",
    "    \n",
    "    return similarity[0][0]\n",
    "\n",
    "# Example Usage\n",
    "text1 = \"I love natural language processing\"\n",
    "text2 = \"I enjoy natural language processing and machine learning\"\n",
    "\n",
    "similarity_score = calculate_cosine_similarity(text1, text2)\n",
    "print(f\"Cosine Similarity: {similarity_score:.2f}\")\n"
   ]
  },
  {
   "cell_type": "markdown",
   "metadata": {},
   "source": [
    "### Levenshtein(Edit) Distance"
   ]
  },
  {
   "cell_type": "code",
   "execution_count": null,
   "metadata": {},
   "outputs": [
    {
     "name": "stdout",
     "output_type": "stream",
     "text": [
      "Levenshtein Distance: 3\n"
     ]
    }
   ],
   "source": [
    "import Levenshtein\n",
    "\n",
    "def levenshtein_distance(text1, text2):\n",
    "    \n",
    "    return Levenshtein.distance(text1, text2)\n",
    "\n",
    "# Example Usage\n",
    "text1 = \"kitten\"\n",
    "text2 = \"sitting\"\n",
    "\n",
    "distance = levenshtein_distance(text1, text2)\n",
    "print(f\"Levenshtein Distance: {distance}\")\n"
   ]
  }
 ],
 "metadata": {
  "kernelspec": {
   "display_name": "Python 3",
   "language": "python",
   "name": "python3"
  },
  "language_info": {
   "codemirror_mode": {
    "name": "ipython",
    "version": 3
   },
   "file_extension": ".py",
   "mimetype": "text/x-python",
   "name": "python",
   "nbconvert_exporter": "python",
   "pygments_lexer": "ipython3",
   "version": "3.12.4"
  }
 },
 "nbformat": 4,
 "nbformat_minor": 2
}
