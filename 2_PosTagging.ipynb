{
 "cells": [
  {
   "cell_type": "code",
   "execution_count": 24,
   "metadata": {},
   "outputs": [],
   "source": [
    "import spacy"
   ]
  },
  {
   "cell_type": "code",
   "execution_count": 25,
   "metadata": {},
   "outputs": [],
   "source": [
    "nlp = spacy.load(\"en_core_web_sm\")"
   ]
  },
  {
   "cell_type": "markdown",
   "metadata": {},
   "source": [
    "### POS Tagging Example"
   ]
  },
  {
   "cell_type": "code",
   "execution_count": 26,
   "metadata": {},
   "outputs": [
    {
     "name": "stdout",
     "output_type": "stream",
     "text": [
      "Elon | PROPN | proper noun | NNP | noun, proper singular\n",
      "Reeve | PROPN | proper noun | NNP | noun, proper singular\n",
      "Musk | PROPN | proper noun | NNP | noun, proper singular\n",
      "FRS | PROPN | proper noun | NNP | noun, proper singular\n",
      "is | AUX | auxiliary | VBZ | verb, 3rd person singular present\n",
      "a | DET | determiner | DT | determiner\n",
      "businessman | NOUN | noun | NN | noun, singular or mass\n",
      "known | VERB | verb | VBN | verb, past participle\n",
      "for | ADP | adposition | IN | conjunction, subordinating or preposition\n",
      "his | PRON | pronoun | PRP$ | pronoun, possessive\n",
      "key | ADJ | adjective | JJ | adjective (English), other noun-modifier (Chinese)\n",
      "roles | NOUN | noun | NNS | noun, plural\n",
      "in | ADP | adposition | IN | conjunction, subordinating or preposition\n",
      "the | DET | determiner | DT | determiner\n",
      "space | NOUN | noun | NN | noun, singular or mass\n",
      "company | NOUN | noun | NN | noun, singular or mass\n",
      "SpaceX | PUNCT | punctuation | -RRB- | right round bracket\n",
      "and | CCONJ | coordinating conjunction | CC | conjunction, coordinating\n",
      "the | DET | determiner | DT | determiner\n",
      "automotive | ADJ | adjective | JJ | adjective (English), other noun-modifier (Chinese)\n",
      "company | NOUN | noun | NN | noun, singular or mass\n",
      "Tesla | PROPN | proper noun | NNP | noun, proper singular\n",
      ", | PUNCT | punctuation | , | punctuation mark, comma\n",
      "Inc. | PROPN | proper noun | NNP | noun, proper singular\n"
     ]
    }
   ],
   "source": [
    "doc = nlp(\"Elon Reeve Musk FRS is a businessman known for his key roles in the space company SpaceX and the automotive company Tesla, Inc.\")\n",
    "\n",
    "for token in doc:\n",
    "    print(token, \"|\" , token.pos_ , \"|\",spacy.explain(token.pos_),\"|\",token.tag_,\"|\",spacy.explain(token.tag_))"
   ]
  },
  {
   "cell_type": "markdown",
   "metadata": {},
   "source": [
    "### Count the each POS"
   ]
  },
  {
   "cell_type": "code",
   "execution_count": 27,
   "metadata": {},
   "outputs": [
    {
     "data": {
      "text/plain": [
       "{96: 6, 87: 1, 90: 3, 92: 5, 100: 1, 85: 2, 95: 1, 84: 2, 97: 2, 89: 1}"
      ]
     },
     "execution_count": 27,
     "metadata": {},
     "output_type": "execute_result"
    }
   ],
   "source": [
    "import spacy.attrs\n",
    "\n",
    "\n",
    "count = doc.count_by(spacy.attrs.POS)\n",
    "count"
   ]
  },
  {
   "cell_type": "code",
   "execution_count": 28,
   "metadata": {},
   "outputs": [
    {
     "data": {
      "text/plain": [
       "'PROPN'"
      ]
     },
     "execution_count": 28,
     "metadata": {},
     "output_type": "execute_result"
    }
   ],
   "source": [
    "doc.vocab[96].text"
   ]
  },
  {
   "cell_type": "code",
   "execution_count": 29,
   "metadata": {},
   "outputs": [
    {
     "name": "stdout",
     "output_type": "stream",
     "text": [
      "PROPN | 6\n",
      "AUX | 1\n",
      "DET | 3\n",
      "NOUN | 5\n",
      "VERB | 1\n",
      "ADP | 2\n",
      "PRON | 1\n",
      "ADJ | 2\n",
      "PUNCT | 2\n",
      "CCONJ | 1\n"
     ]
    }
   ],
   "source": [
    "for k,v in count.items():\n",
    "    print(doc.vocab[k].text,\"|\",v)"
   ]
  },
  {
   "cell_type": "markdown",
   "metadata": {},
   "source": [
    "## Practice"
   ]
  },
  {
   "cell_type": "code",
   "execution_count": 30,
   "metadata": {},
   "outputs": [],
   "source": [
    "text = \"\"\"Inflation rose again in April, continuing a climb that has pushed consumers to the brink and is threatening the economic expansion, the Bureau of Labor Statistics reported Wednesday.\n",
    "\n",
    "The consumer price index, a broad-based measure of prices for goods and services, increased 8.3% from a year ago, higher than the Dow Jones estimate for an 8.1% gain. That represented a slight ease from March’s peak but was still close to the highest level since the summer of 1982.\n",
    "\n",
    "Removing volatile food and energy prices, so-called core CPI still rose 6.2%, against expectations for a 6% gain, clouding hopes that inflation had peaked in March.\n",
    "\n",
    "The month-over-month gains also were higher than expectations — 0.3% on headline CPI versus the 0.2% estimate and a 0.6% increase for core, against the outlook for a 0.4% gain.\n",
    "\n",
    "The price gains also meant that workers continued to lose ground. Real wages adjusted for inflation decreased 0.1% on the month despite a nominal increase of 0.3% in average hourly earnings. Over the past year, real earnings have dropped 2.6% even though average hourly earnings are up 5.5%.\n",
    "\n",
    "Inflation has been the single biggest threat to a recovery that began early in the Covid pandemic and saw the economy in 2021 stage its biggest single-year growth level since 1984. Rising prices at the pump and in grocery stores have been one problem, but inflation has spread beyond those two areas into housing, auto sales and a host of other areas.\n",
    "\n",
    "Federal Reserve officials have responded to the problem with two interest rate hikes so far this year and pledges of more until inflation comes down to the central bank’s 2% goal. However, Wednesday’s data shows that the Fed has a big job ahead.\n",
    "\"\"\""
   ]
  },
  {
   "cell_type": "markdown",
   "metadata": {},
   "source": [
    "-> Extract all NOUN tokens from this story. You will have to read the file in python first to collect all the text and then extract NOUNs in a python list"
   ]
  },
  {
   "cell_type": "markdown",
   "metadata": {},
   "source": [
    "-> Extract all numbers (NUM POS type) in a python list"
   ]
  },
  {
   "cell_type": "code",
   "execution_count": 31,
   "metadata": {},
   "outputs": [],
   "source": [
    "doc1 = nlp(text)\n",
    "\n",
    "noun_list = []\n",
    "number_list = []\n",
    "\n",
    "for token in doc1:\n",
    "    if token.pos_ == \"NOUN\":\n",
    "        noun_list.append(token)\n",
    "    elif token.pos_ == \"NUM\":\n",
    "        number_list.append(token)\n",
    "        "
   ]
  },
  {
   "cell_type": "code",
   "execution_count": 37,
   "metadata": {},
   "outputs": [
    {
     "name": "stdout",
     "output_type": "stream",
     "text": [
      "[Inflation, climb, consumers, brink, expansion, consumer, price, index, measure, prices]\n",
      "95\n"
     ]
    }
   ],
   "source": [
    "print(noun_list[:10])\n",
    "print(len(noun_list))"
   ]
  },
  {
   "cell_type": "code",
   "execution_count": 38,
   "metadata": {},
   "outputs": [
    {
     "name": "stdout",
     "output_type": "stream",
     "text": [
      "[8.3, 8.1, 1982, 6.2, 6, 0.3, 0.2, 0.6, 0.4, 0.1]\n",
      "19\n"
     ]
    }
   ],
   "source": [
    "print(number_list[:10])\n",
    "print(len(number_list))"
   ]
  },
  {
   "cell_type": "markdown",
   "metadata": {},
   "source": [
    "-> Print a count of all POS tags in this story"
   ]
  },
  {
   "cell_type": "code",
   "execution_count": 34,
   "metadata": {},
   "outputs": [],
   "source": [
    "count = doc1.count_by(spacy.attrs.POS)"
   ]
  },
  {
   "cell_type": "code",
   "execution_count": 35,
   "metadata": {},
   "outputs": [
    {
     "name": "stdout",
     "output_type": "stream",
     "text": [
      "NOUN | 95\n",
      "VERB | 27\n",
      "ADV | 15\n",
      "ADP | 39\n",
      "PROPN | 16\n",
      "PUNCT | 31\n",
      "DET | 34\n",
      "PRON | 4\n",
      "AUX | 13\n",
      "CCONJ | 10\n",
      "ADJ | 23\n",
      "SPACE | 7\n",
      "NUM | 19\n",
      "PART | 4\n",
      "SCONJ | 8\n"
     ]
    }
   ],
   "source": [
    "for k,v in count.items():\n",
    "    print(doc1.vocab[k].text,\"|\",v)"
   ]
  },
  {
   "cell_type": "code",
   "execution_count": null,
   "metadata": {},
   "outputs": [],
   "source": []
  }
 ],
 "metadata": {
  "kernelspec": {
   "display_name": "Python 3",
   "language": "python",
   "name": "python3"
  },
  "language_info": {
   "codemirror_mode": {
    "name": "ipython",
    "version": 3
   },
   "file_extension": ".py",
   "mimetype": "text/x-python",
   "name": "python",
   "nbconvert_exporter": "python",
   "pygments_lexer": "ipython3",
   "version": "3.12.4"
  }
 },
 "nbformat": 4,
 "nbformat_minor": 2
}
